{
 "cells": [
  {
   "cell_type": "markdown",
   "metadata": {},
   "source": [
    "## Challenge 2: Sets\n",
    "\n",
    "There are a lot to learn about Python Sets and the information presented in the lesson is limited due to its length. To learn Python Sets in depth you are strongly encouraged to review the W3Schools tutorial on [Python Sets Examples and Methods](https://www.w3schools.com/python/python_sets.asp) before you work on this lab. Some difficult questions in this lab have their solutions in the W3Schools tutorial.\n",
    "\n",
    "#### First, import the Python `random` library."
   ]
  },
  {
   "cell_type": "code",
   "execution_count": 5,
   "metadata": {},
   "outputs": [],
   "source": [
    "import random"
   ]
  },
  {
   "cell_type": "markdown",
   "metadata": {},
   "source": [
    "#### In the cell below, create a list named `sample_list_1` with 80 random values. \n",
    "\n",
    "Requirements:\n",
    "\n",
    "* Each value is an integer falling between 0 and 100.\n",
    "* Each value in the list is unique.\n",
    "\n",
    "Print `sample_list_1` to review its values\n",
    "\n",
    "*Hint: use `random.sample` ([reference](https://docs.python.org/3/library/random.html#random.sample)).*"
   ]
  },
  {
   "cell_type": "code",
   "execution_count": 16,
   "metadata": {},
   "outputs": [
    {
     "name": "stdout",
     "output_type": "stream",
     "text": [
      "80\n"
     ]
    }
   ],
   "source": [
    "sample_list_1 = range(100)\n",
    "sample_list_1 = random.sample(sample_list_1, k=80)\n",
    "\n",
    "print(len(sample_list_1))"
   ]
  },
  {
   "cell_type": "markdown",
   "metadata": {},
   "source": [
    "#### Convert `sample_list_1` to a set called `set1`. Print the length of the set. Is its length still 80?"
   ]
  },
  {
   "cell_type": "code",
   "execution_count": 21,
   "metadata": {},
   "outputs": [
    {
     "name": "stdout",
     "output_type": "stream",
     "text": [
      "80\n",
      "The lenght of set1 is 80\n"
     ]
    }
   ],
   "source": [
    "set1 = set(sample_list_1)\n",
    "\n",
    "print(len(sample_list_1))\n",
    "print(\"The lenght of set1 is\",len(set1))\n",
    "\n",
    "#Yes, the lenght of the set1 is still 80"
   ]
  },
  {
   "cell_type": "markdown",
   "metadata": {},
   "source": [
    "#### Create another list named `sample_list_2` with 80 random values.\n",
    "\n",
    "Requirements:\n",
    "\n",
    "* Each value is an integer falling between 0 and 100.\n",
    "* The values in the list don't have to be unique.\n",
    "\n",
    "*Hint: Use a FOR loop and the `randrange()` function.*"
   ]
  },
  {
   "cell_type": "code",
   "execution_count": 46,
   "metadata": {},
   "outputs": [
    {
     "name": "stdout",
     "output_type": "stream",
     "text": [
      "[86, 22, 37, 22, 87, 36, 39, 79, 67, 56, 58, 63, 87, 34, 47, 86, 99, 88, 65, 15, 3, 10, 75, 51, 49, 44, 26, 11, 67, 62, 59, 51, 68, 11, 21, 79, 6, 71, 90, 73, 94, 65, 3, 54, 18, 49, 78, 80, 89, 45, 33, 14, 36, 75, 63, 47, 25, 91, 91, 57, 10, 13, 59, 18, 44, 25, 68, 76, 94, 60, 22, 26, 13, 6, 62, 14, 78, 54, 38, 81]\n"
     ]
    }
   ],
   "source": [
    "sample_list_2 = []\n",
    "for x in range(100):\n",
    "    sample_list_2.append(random.randrange(0,100))\n",
    "    if len(sample_list_2)>= 80:\n",
    "        break\n",
    "\n",
    "print(sample_list_2)"
   ]
  },
  {
   "cell_type": "markdown",
   "metadata": {},
   "source": [
    "#### Convert `sample_list_2` to a set called `set2`. Print the length of the set. Is its length still 80?"
   ]
  },
  {
   "cell_type": "code",
   "execution_count": 48,
   "metadata": {},
   "outputs": [
    {
     "name": "stdout",
     "output_type": "stream",
     "text": [
      "{3, 6, 10, 11, 13, 14, 15, 18, 21, 22, 25, 26, 33, 34, 36, 37, 38, 39, 44, 45, 47, 49, 51, 54, 56, 57, 58, 59, 60, 62, 63, 65, 67, 68, 71, 73, 75, 76, 78, 79, 80, 81, 86, 87, 88, 89, 90, 91, 94, 99}\n",
      "50\n"
     ]
    }
   ],
   "source": [
    "set2 = set(sample_list_2)\n",
    "print(set2)\n",
    "\n",
    "print(len(set2))\n",
    "#It is not the same lenght because is a set and it eliminates the duplicate elements. Since the "
   ]
  },
  {
   "cell_type": "markdown",
   "metadata": {},
   "source": [
    "#### Identify the elements present in `set1` but not in `set2`. Assign the elements to a new set named `set3`."
   ]
  },
  {
   "cell_type": "code",
   "execution_count": 77,
   "metadata": {},
   "outputs": [
    {
     "name": "stdout",
     "output_type": "stream",
     "text": [
      "{1, 4, 5, 8, 9, 12, 16, 17, 19, 20, 24, 31, 35, 40, 41, 42, 43, 46, 48, 50, 52, 53, 55, 61, 66, 69, 70, 72, 77, 82, 83, 84, 85, 92, 93, 97, 98}\n",
      "43\n"
     ]
    }
   ],
   "source": [
    "duplicates = []\n",
    "set3 = []\n",
    "for element in set1:\n",
    "    if element in set2:\n",
    "        duplicates.append(element)\n",
    "    else:\n",
    "        set3.append(element)\n",
    "\n",
    "\n",
    "set3 = set(set3)\n",
    "print(set3)\n",
    "print(len(duplicates))"
   ]
  },
  {
   "cell_type": "markdown",
   "metadata": {},
   "source": [
    "#### Identify the elements present in `set2` but not in `set1`. Assign the elements to a new set named `set4`."
   ]
  },
  {
   "cell_type": "code",
   "execution_count": 70,
   "metadata": {},
   "outputs": [
    {
     "name": "stdout",
     "output_type": "stream",
     "text": [
      "{99, 37, 10, 45, 79, 86, 59}\n"
     ]
    }
   ],
   "source": [
    "set4 = []\n",
    "for value in set2:\n",
    "    if value in set1:\n",
    "        duplicates.append(value)\n",
    "    else:\n",
    "        set4.append(value)\n",
    "        \n",
    "set4= set(set4)\n",
    "print(set4)\n"
   ]
  },
  {
   "cell_type": "markdown",
   "metadata": {},
   "source": [
    "#### Now Identify the elements shared between `set1` and `set2`. Assign the elements to a new set named `set5`."
   ]
  },
  {
   "cell_type": "code",
   "execution_count": 73,
   "metadata": {},
   "outputs": [
    {
     "name": "stdout",
     "output_type": "stream",
     "text": [
      "{3, 6, 11, 13, 14, 15, 18, 21, 22, 25, 26, 33, 34, 36, 38, 39, 44, 47, 49, 51, 54, 56, 57, 58, 60, 62, 63, 65, 67, 68, 71, 73, 75, 76, 78, 80, 81, 87, 88, 89, 90, 91, 94}\n"
     ]
    }
   ],
   "source": [
    "set5 = set(duplicates)\n",
    "print(set5)"
   ]
  },
  {
   "cell_type": "markdown",
   "metadata": {},
   "source": [
    "#### What is the relationship among the following values:\n",
    "\n",
    "* len(set1)\n",
    "* len(set2)\n",
    "* len(set3)\n",
    "* len(set4)\n",
    "* len(set5)\n",
    "\n",
    "Think about the set operations that you used to create the sets and how the lengths of the sets are related to each other given those operations."
   ]
  },
  {
   "cell_type": "code",
   "execution_count": 76,
   "metadata": {},
   "outputs": [
    {
     "name": "stdout",
     "output_type": "stream",
     "text": [
      "This is the lenght of set 1 80\n",
      "This is the lenght of set 2 50\n",
      "This is the lenght of set 3 37\n",
      "This is the lenght of set 4 7\n",
      "This is the lenght of set 5 43\n"
     ]
    }
   ],
   "source": [
    "print(\"This is the lenght of set 1\",len(set1))\n",
    "print(\"This is the lenght of set 2\",len(set2))\n",
    "print(\"This is the lenght of set 3\",len(set3))\n",
    "print(\"This is the lenght of set 4\",len(set4))\n",
    "print(\"This is the lenght of set 5\",len(set5))\n",
    "\n",
    "#The first lenght is a list of 80 random numbers with no repetition. \n",
    "#The second set has 30 numbers less because there are repetitions. \n",
    "#The third set says effectively that there around 37 numbers in the set with no repetitions and the set with repetitions, which makes sense.\n",
    "#The fourth set only has 7 numbers which are the remaining 7 that the first set didn't generate when doing the random selection between 100 numbers. \n",
    "#43 Are the number of numbers duplicated. If we sum up 43 + 37 (number of duplicates and number with no repetitions, we get 80 which is the lenght of the dictionary we got in step 2)\n"
   ]
  },
  {
   "cell_type": "markdown",
   "metadata": {},
   "source": [
    "#### Create an empty set called `set6`."
   ]
  },
  {
   "cell_type": "code",
   "execution_count": 85,
   "metadata": {},
   "outputs": [],
   "source": [
    "set6 = set()\n",
    "\n",
    "#When creating a set that is empty, you can't do it like a list = [] , rather you have to do it like above if not, it is interpreted as a dictionary."
   ]
  },
  {
   "cell_type": "markdown",
   "metadata": {},
   "source": [
    "#### Add `set3` and `set5` to `set6` using the Python Set `update` method."
   ]
  },
  {
   "cell_type": "code",
   "execution_count": 87,
   "metadata": {},
   "outputs": [
    {
     "name": "stdout",
     "output_type": "stream",
     "text": [
      "{1, 3, 4, 5, 6, 8, 9, 11, 12, 13, 14, 15, 16, 17, 18, 19, 20, 21, 22, 24, 25, 26, 31, 33, 34, 35, 36, 38, 39, 40, 41, 42, 43, 44, 46, 47, 48, 49, 50, 51, 52, 53, 54, 55, 56, 57, 58, 60, 61, 62, 63, 65, 66, 67, 68, 69, 70, 71, 72, 73, 75, 76, 77, 78, 80, 81, 82, 83, 84, 85, 87, 88, 89, 90, 91, 92, 93, 94, 97, 98}\n"
     ]
    }
   ],
   "source": [
    "set6.update(set3)\n",
    "set6.update(set5)\n",
    "\n",
    "print(set6)"
   ]
  },
  {
   "cell_type": "markdown",
   "metadata": {},
   "source": [
    "#### Check if `set1` and `set6` are equal."
   ]
  },
  {
   "cell_type": "code",
   "execution_count": 89,
   "metadata": {},
   "outputs": [
    {
     "name": "stdout",
     "output_type": "stream",
     "text": [
      "They are equal\n"
     ]
    }
   ],
   "source": [
    "if set1 == set6:\n",
    "    print(\"They are equal\")\n",
    "else:\n",
    "    print(\"It's False\")"
   ]
  },
  {
   "cell_type": "markdown",
   "metadata": {},
   "source": [
    "#### Check if `set1` contains `set2` using the Python Set `issubset` method. Then check if `set1` contains `set3`."
   ]
  },
  {
   "cell_type": "code",
   "execution_count": 92,
   "metadata": {},
   "outputs": [
    {
     "name": "stdout",
     "output_type": "stream",
     "text": [
      "False\n",
      "True\n"
     ]
    }
   ],
   "source": [
    "set1_contains_set_2 = set2.issubset(set1)\n",
    "print(set1_contains_set_2)\n",
    "\n",
    "set1_contains_set_3 = set3.issubset(set3)\n",
    "print(set1_contains_set_3)"
   ]
  },
  {
   "cell_type": "markdown",
   "metadata": {},
   "source": [
    "#### Using the Python Set `union` method, aggregate `set3`, `set4`, and `set5`. Then aggregate `set1` and `set2`. \n",
    "\n",
    "#### Check if the aggregated values are equal."
   ]
  },
  {
   "cell_type": "code",
   "execution_count": 98,
   "metadata": {},
   "outputs": [
    {
     "name": "stdout",
     "output_type": "stream",
     "text": [
      "They are equal\n"
     ]
    }
   ],
   "source": [
    "union_of_sets = set3.union(set4,set5)\n",
    "union_of_sets_1 = set1.union(set2)\n",
    "\n",
    "if union_of_sets == union_of_sets_1:\n",
    "    print(\"They are equal\")\n",
    "else:\n",
    "    print(\"They are not equal\")"
   ]
  },
  {
   "cell_type": "markdown",
   "metadata": {},
   "source": [
    "#### Using the `pop` method, remove the first element from `set1`."
   ]
  },
  {
   "cell_type": "code",
   "execution_count": 100,
   "metadata": {},
   "outputs": [
    {
     "data": {
      "text/plain": [
       "1"
      ]
     },
     "execution_count": 100,
     "metadata": {},
     "output_type": "execute_result"
    }
   ],
   "source": [
    "set1.pop()\n",
    "\n",
    "#The set doesn't have an order, so a random element taken could be the first element. "
   ]
  },
  {
   "cell_type": "markdown",
   "metadata": {},
   "source": [
    "#### Remove every element in the following list from `set1` if they are present in the set. Print the remaining elements.\n",
    "\n",
    "```\n",
    "list_to_remove = [1, 9, 11, 19, 21, 29, 31, 39, 41, 49, 51, 59, 61, 69, 71, 79, 81, 89, 91, 99]\n",
    "```"
   ]
  },
  {
   "cell_type": "code",
   "execution_count": 102,
   "metadata": {},
   "outputs": [
    {
     "name": "stdout",
     "output_type": "stream",
     "text": [
      "{3, 4, 5, 6, 8, 12, 13, 14, 15, 16, 17, 18, 20, 22, 24, 25, 26, 33, 34, 35, 36, 38, 40, 42, 43, 44, 46, 47, 48, 50, 52, 53, 54, 55, 56, 57, 58, 60, 62, 63, 65, 66, 67, 68, 70, 72, 73, 75, 76, 77, 78, 80, 82, 83, 84, 85, 87, 88, 90, 92, 93, 94, 97, 98}\n"
     ]
    }
   ],
   "source": [
    "list_to_remove = [1, 9, 11, 19, 21, 29, 31, 39, 41, 49, 51, 59, 61, 69, 71, 79, 81, 89, 91, 99]\n",
    "\n",
    "for z in list_to_remove:\n",
    "    if z in set1:\n",
    "        set1.discard(z)\n",
    "\n",
    "print(set1)\n"
   ]
  },
  {
   "cell_type": "code",
   "execution_count": null,
   "metadata": {},
   "outputs": [],
   "source": []
  }
 ],
 "metadata": {
  "kernelspec": {
   "display_name": "Python 3",
   "language": "python",
   "name": "python3"
  },
  "language_info": {
   "codemirror_mode": {
    "name": "ipython",
    "version": 3
   },
   "file_extension": ".py",
   "mimetype": "text/x-python",
   "name": "python",
   "nbconvert_exporter": "python",
   "pygments_lexer": "ipython3",
   "version": "3.8.2"
  }
 },
 "nbformat": 4,
 "nbformat_minor": 2
}
