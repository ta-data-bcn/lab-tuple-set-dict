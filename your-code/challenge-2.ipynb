{
 "cells": [
  {
   "cell_type": "markdown",
   "metadata": {},
   "source": [
    "## Challenge 2: Sets\n",
    "\n",
    "There are a lot to learn about Python Sets and the information presented in the lesson is limited due to its length. To learn Python Sets in depth you are strongly encouraged to review the W3Schools tutorial on [Python Sets Examples and Methods](https://www.w3schools.com/python/python_sets.asp) before you work on this lab. Some difficult questions in this lab have their solutions in the W3Schools tutorial.\n",
    "\n",
    "#### First, import the Python `random` library."
   ]
  },
  {
   "cell_type": "code",
   "execution_count": null,
   "metadata": {},
   "outputs": [],
   "source": [
    "import random"
   ]
  },
  {
   "cell_type": "markdown",
   "metadata": {},
   "source": [
    "#### In the cell below, create a list named `sample_list_1` with 80 random values. \n",
    "\n",
    "Requirements:\n",
    "\n",
    "* Each value is an integer falling between 0 and 100.\n",
    "* Each value in the list is unique.\n",
    "\n",
    "Print `sample_list_1` to review its values\n",
    "\n",
    "*Hint: use `random.sample` ([reference](https://docs.python.org/3/library/random.html#random.sample)).*"
   ]
  },
  {
   "cell_type": "code",
   "execution_count": 49,
   "metadata": {},
   "outputs": [
    {
     "name": "stdout",
     "output_type": "stream",
     "text": [
      "[17, 11, 79, 2, 27, 18, 70, 3, 56, 44, 36, 65, 33, 84, 62, 32, 91, 10, 50, 86, 45, 23, 58, 42, 60, 87, 80, 92, 73, 34, 95, 66, 96, 75, 22, 1, 94, 40, 47, 31, 89, 68, 57, 15, 53, 54, 37, 78, 61, 77, 72, 82, 13, 5, 6, 67, 29, 74, 93, 30, 25, 55, 83, 97, 76, 38, 26, 43, 21, 9, 49, 52, 59, 64, 35, 90, 71, 16, 88, 12]\n"
     ]
    }
   ],
   "source": [
    "import random\n",
    "sample_list_1 = random.sample(range(100), k = 80)\n",
    "print(sample_list_1)\n"
   ]
  },
  {
   "cell_type": "markdown",
   "metadata": {},
   "source": [
    "#### Convert `sample_list_1` to a set called `set1`. Print the length of the set. Is its length still 80?"
   ]
  },
  {
   "cell_type": "code",
   "execution_count": 87,
   "metadata": {},
   "outputs": [
    {
     "name": "stdout",
     "output_type": "stream",
     "text": [
      "set1 = {0, 1, 2, 3, 4, 5, 6, 7, 8, 9, 10, 11, 12, 13, 15, 17, 18, 20, 23, 25, 26, 27, 28, 29, 30, 32, 34, 35, 36, 37, 38, 39, 40, 41, 42, 43, 44, 45, 46, 47, 48, 50, 51, 52, 53, 54, 55, 56, 57, 58, 59, 60, 61, 62, 63, 64, 65, 66, 67, 68, 69, 70, 72, 74, 75, 79, 80, 83, 85, 86, 87, 88, 89, 91, 92, 93, 94, 96, 97, 99}\n",
      "len of sample_list_1 = 80\n",
      "len of set1 = 80\n",
      "They have the same len.\n"
     ]
    }
   ],
   "source": [
    "sample_list_1 = [34, 58, 40, 94, 63, 54, 47, 80, 37, 0, 12, 96, 61, 39, 67, 20, 2, 87, 6, 56, 91, 36, 25, 68, 30, 35, 52, 85, 8, 59, 44, 18, 55, 17, 42, 3, 92, 26, 88, 27, 28, 50, 4, 60, 5, 57, 29, 97, 83, 23, 64, 86, 46, 15, 32, 89, 62, 10, 53, 65, 9, 72, 70, 7, 45, 51, 11, 69, 1, 41, 66, 48, 13, 74, 75, 43, 38, 99, 93, 79]\n",
    "for numbers in sample_list_1:\n",
    "    set1 = set(sample_list_1)\n",
    "print('set1 =', set1)\n",
    "print('len of sample_list_1 =', len(sample_list_1))    \n",
    "print('len of set1 =', len(set1))\n",
    "\n",
    "if len(sample_list_1) == len(set1):\n",
    "    print('They have the same len.')\n",
    "elif len(sample_list_1) != len(set1):\n",
    "    print(\"They haven't the same len.\")"
   ]
  },
  {
   "cell_type": "markdown",
   "metadata": {},
   "source": [
    "#### Create another list named `sample_list_2` with 80 random values.\n",
    "\n",
    "Requirements:\n",
    "\n",
    "* Each value is an integer falling between 0 and 100.\n",
    "* The values in the list don't have to be unique.\n",
    "\n",
    "*Hint: Use a FOR loop and the `randrange()` function.*"
   ]
  },
  {
   "cell_type": "code",
   "execution_count": 58,
   "metadata": {},
   "outputs": [
    {
     "name": "stdout",
     "output_type": "stream",
     "text": [
      "[98, 58, 59, 75, 13, 62, 45, 85, 85, 88, 87, 84, 65, 74, 53, 54, 79, 15, 83, 48, 24, 78, 0, 65, 82, 95, 13, 54, 93, 98, 30, 97, 86, 71, 77, 29, 4, 25, 70, 94, 75, 25, 83, 61, 12, 29, 20, 40, 96, 50, 42, 52, 73, 33, 68, 2, 60, 77, 23, 34, 1, 63, 56, 92, 97, 97, 31, 20, 53, 11, 64, 91, 26, 33, 77, 75, 48, 65, 68, 59]\n"
     ]
    }
   ],
   "source": [
    "sample_list_2 = []\n",
    "for number in range(80):\n",
    "    sample_list_2.append(random.randrange(0, 100))\n",
    "print(sample_list_2)"
   ]
  },
  {
   "cell_type": "markdown",
   "metadata": {},
   "source": [
    "#### Convert `sample_list_2` to a set called `set2`. Print the length of the set. Is its length still 80?"
   ]
  },
  {
   "cell_type": "code",
   "execution_count": 89,
   "metadata": {},
   "outputs": [
    {
     "name": "stdout",
     "output_type": "stream",
     "text": [
      "set2 = {0, 1, 2, 4, 11, 12, 13, 15, 20, 23, 24, 25, 26, 29, 30, 31, 33, 34, 40, 42, 45, 48, 50, 52, 53, 54, 56, 58, 59, 60, 61, 62, 63, 64, 65, 68, 70, 71, 73, 74, 75, 77, 78, 79, 82, 83, 84, 85, 86, 87, 88, 91, 92, 93, 94, 95, 96, 97, 98}\n",
      "len of sample_list_2 = 80\n",
      "len of set2 = 59\n",
      "They haven't the same len.\n"
     ]
    }
   ],
   "source": [
    "for numbers in sample_list_2:\n",
    "    set2 = set(sample_list_2)\n",
    "print('set2 =', set2)\n",
    "print('len of sample_list_2 =', len(sample_list_2))    \n",
    "print('len of set2 =', len(set2))\n",
    "\n",
    "if len(sample_list_2) == len(set2):\n",
    "    print('They have the same len.')\n",
    "elif len(sample_list_2) != len(set2):\n",
    "    print(\"They haven't the same len.\")\n"
   ]
  },
  {
   "cell_type": "markdown",
   "metadata": {},
   "source": [
    "#### Identify the elements present in `set1` but not in `set2`. Assign the elements to a new set named `set3`."
   ]
  },
  {
   "cell_type": "code",
   "execution_count": 90,
   "metadata": {},
   "outputs": [
    {
     "name": "stdout",
     "output_type": "stream",
     "text": [
      "set3 = {3, 5, 6, 7, 8, 9, 10, 17, 18, 27, 28, 32, 35, 36, 37, 38, 39, 41, 43, 44, 46, 47, 51, 55, 57, 66, 67, 69, 72, 80, 89, 99}\n"
     ]
    }
   ],
   "source": [
    "set3 = []\n",
    "for numbers in set1:\n",
    "    if numbers not in set2:\n",
    "        set3.append(numbers)\n",
    "for numbers in set3:\n",
    "    set3 = set(set3)\n",
    "print('set3 =', set3)"
   ]
  },
  {
   "cell_type": "markdown",
   "metadata": {},
   "source": [
    "#### Identify the elements present in `set2` but not in `set1`. Assign the elements to a new set named `set4`."
   ]
  },
  {
   "cell_type": "code",
   "execution_count": 91,
   "metadata": {},
   "outputs": [
    {
     "name": "stdout",
     "output_type": "stream",
     "text": [
      "set4 = {33, 98, 71, 73, 77, 78, 82, 84, 24, 95, 31}\n"
     ]
    }
   ],
   "source": [
    "set4 = []\n",
    "for numbers in set2:\n",
    "    if numbers not in set1:\n",
    "        set4.append(numbers)\n",
    "for numbers in set4:\n",
    "    set4 = set(set4)\n",
    "print('set4 =', set4)"
   ]
  },
  {
   "cell_type": "markdown",
   "metadata": {},
   "source": [
    "#### Now Identify the elements shared between `set1` and `set2`. Assign the elements to a new set named `set5`."
   ]
  },
  {
   "cell_type": "code",
   "execution_count": 92,
   "metadata": {},
   "outputs": [
    {
     "name": "stdout",
     "output_type": "stream",
     "text": [
      "set5 = {0, 1, 2, 4, 11, 12, 13, 15, 20, 23, 25, 26, 29, 30, 34, 40, 42, 45, 48, 50, 52, 53, 54, 56, 58, 59, 60, 61, 62, 63, 64, 65, 68, 70, 74, 75, 79, 83, 85, 86, 87, 88, 91, 92, 93, 94, 96, 97}\n"
     ]
    }
   ],
   "source": [
    "set5 = []\n",
    "for numbers in set1:\n",
    "    if numbers in set2:\n",
    "        set5.append(numbers)\n",
    "for numbers in set5:\n",
    "    set5 = set(set5)\n",
    "print('set5 =', set5)"
   ]
  },
  {
   "cell_type": "markdown",
   "metadata": {},
   "source": [
    "#### What is the relationship among the following values:\n",
    "\n",
    "* len(set1)\n",
    "* len(set2)\n",
    "* len(set3)\n",
    "* len(set4)\n",
    "* len(set5)\n",
    "\n",
    "Think about the set operations that you used to create the sets and how the lengths of the sets are related to each other given those operations."
   ]
  },
  {
   "cell_type": "code",
   "execution_count": 99,
   "metadata": {},
   "outputs": [
    {
     "name": "stdout",
     "output_type": "stream",
     "text": [
      "The len of set1 is the sum of set5 and set3\n",
      "The len of set2 is the sum of set5 and set4\n"
     ]
    }
   ],
   "source": [
    "if len(set1) == len(set5) + len(set3):\n",
    "    print('The len of set1 is the sum of set5 and set3')\n",
    "\n",
    "if len(set2) == len(set5) + len(set4):\n",
    "    print('The len of set2 is the sum of set5 and set4')"
   ]
  },
  {
   "cell_type": "markdown",
   "metadata": {},
   "source": [
    "#### Create an empty set called `set6`."
   ]
  },
  {
   "cell_type": "code",
   "execution_count": 118,
   "metadata": {},
   "outputs": [],
   "source": [
    "set6 = set()"
   ]
  },
  {
   "cell_type": "markdown",
   "metadata": {},
   "source": [
    "#### Add `set3` and `set5` to `set6` using the Python Set `update` method."
   ]
  },
  {
   "cell_type": "code",
   "execution_count": 119,
   "metadata": {},
   "outputs": [
    {
     "name": "stdout",
     "output_type": "stream",
     "text": [
      "{0, 1, 2, 3, 4, 5, 6, 7, 8, 9, 10, 11, 12, 13, 15, 17, 18, 20, 23, 25, 26, 27, 28, 29, 30, 32, 34, 35, 36, 37, 38, 39, 40, 41, 42, 43, 44, 45, 46, 47, 48, 50, 51, 52, 53, 54, 55, 56, 57, 58, 59, 60, 61, 62, 63, 64, 65, 66, 67, 68, 69, 70, 72, 74, 75, 79, 80, 83, 85, 86, 87, 88, 89, 91, 92, 93, 94, 96, 97, 99}\n"
     ]
    }
   ],
   "source": [
    "set6.update(set3, set5)\n",
    "print(set6)"
   ]
  },
  {
   "cell_type": "markdown",
   "metadata": {},
   "source": [
    "#### Check if `set1` and `set6` are equal."
   ]
  },
  {
   "cell_type": "code",
   "execution_count": 124,
   "metadata": {},
   "outputs": [
    {
     "name": "stdout",
     "output_type": "stream",
     "text": [
      "YES\n"
     ]
    }
   ],
   "source": [
    "if set1 == set6:\n",
    "    print('YES')\n",
    "elif set1 != set6:\n",
    "    print('NO')"
   ]
  },
  {
   "cell_type": "markdown",
   "metadata": {},
   "source": [
    "#### Check if `set1` contains `set2` using the Python Set `issubset` method. Then check if `set1` contains `set3`."
   ]
  },
  {
   "cell_type": "code",
   "execution_count": 127,
   "metadata": {},
   "outputs": [
    {
     "name": "stdout",
     "output_type": "stream",
     "text": [
      "Set1 containts set2? False\n",
      "Set1 containts set3? True\n"
     ]
    }
   ],
   "source": [
    "print('Set1 containts set2?', set1.issubset(set2))\n",
    "print('Set1 containts set3?', set1.issubset(set3))"
   ]
  },
  {
   "cell_type": "markdown",
   "metadata": {},
   "source": [
    "#### Using the Python Set `union` method, aggregate `set3`, `set4`, and `set5`. Then aggregate `set1` and `set2`. \n",
    "\n",
    "#### Check if the aggregated values are equal."
   ]
  },
  {
   "cell_type": "code",
   "execution_count": 131,
   "metadata": {},
   "outputs": [
    {
     "name": "stdout",
     "output_type": "stream",
     "text": [
      "The unions are equal.\n"
     ]
    }
   ],
   "source": [
    "union345 = set3.union(set4, set5)\n",
    "union12 = set1.union(set2)\n",
    "if union345 == union12:\n",
    "    print('The unions are equal.')\n",
    "elif union345 != union12:\n",
    "    print('The unions are not equal.')"
   ]
  },
  {
   "cell_type": "markdown",
   "metadata": {},
   "source": [
    "#### Using the `pop` method, remove the first element from `set1`."
   ]
  },
  {
   "cell_type": "code",
   "execution_count": 136,
   "metadata": {},
   "outputs": [
    {
     "name": "stdout",
     "output_type": "stream",
     "text": [
      "[1, 2, 3, 4, 5, 6, 7, 8, 9, 10, 11, 12, 13, 15, 17, 18, 20, 23, 25, 26, 27, 28, 29, 30, 32, 34, 35, 36, 37, 38, 39, 40, 41, 42, 43, 44, 45, 46, 47, 48, 50, 51, 52, 53, 54, 55, 56, 57, 58, 59, 60, 61, 62, 63, 64, 65, 66, 67, 68, 69, 70, 72, 74, 75, 79, 80, 83, 85, 86, 87, 88, 89, 91, 92, 93, 94, 96, 97, 99]\n",
      "[2, 3, 4, 5, 6, 7, 8, 9, 10, 11, 12, 13, 15, 17, 18, 20, 23, 25, 26, 27, 28, 29, 30, 32, 34, 35, 36, 37, 38, 39, 40, 41, 42, 43, 44, 45, 46, 47, 48, 50, 51, 52, 53, 54, 55, 56, 57, 58, 59, 60, 61, 62, 63, 64, 65, 66, 67, 68, 69, 70, 72, 74, 75, 79, 80, 83, 85, 86, 87, 88, 89, 91, 92, 93, 94, 96, 97, 99]\n"
     ]
    }
   ],
   "source": [
    "set1 = list(set1)\n",
    "print(set1)\n",
    "set1.pop(0)\n",
    "print(set1)"
   ]
  },
  {
   "cell_type": "markdown",
   "metadata": {},
   "source": [
    "#### Remove every element in the following list from `set1` if they are present in the set. Print the remaining elements.\n",
    "\n",
    "```\n",
    "list_to_remove = [1, 9, 11, 19, 21, 29, 31, 39, 41, 49, 51, 59, 61, 69, 71, 79, 81, 89, 91, 99]\n",
    "```"
   ]
  },
  {
   "cell_type": "code",
   "execution_count": 154,
   "metadata": {},
   "outputs": [
    {
     "name": "stdout",
     "output_type": "stream",
     "text": [
      "[2, 7, 8, 10, 13, 18, 25, 34, 38, 43, 45, 48, 53, 56, 58, 62, 63, 65, 67, 68, 75, 86, 87, 92, 96, 97]\n"
     ]
    }
   ],
   "source": [
    "list_to_remove = [1, 9, 11, 19, 21, 29, 31, 39, 41, 49, 51, 59, 61, 69, 71, 79, 81, 89, 91, 99]\n",
    "for numbers in list_to_remove:\n",
    "    if numbers in set1:\n",
    "        set1.remove(numbers)\n",
    "print(set1)"
   ]
  }
 ],
 "metadata": {
  "kernelspec": {
   "display_name": "Python 3",
   "language": "python",
   "name": "python3"
  },
  "language_info": {
   "codemirror_mode": {
    "name": "ipython",
    "version": 3
   },
   "file_extension": ".py",
   "mimetype": "text/x-python",
   "name": "python",
   "nbconvert_exporter": "python",
   "pygments_lexer": "ipython3",
   "version": "3.8.3"
  }
 },
 "nbformat": 4,
 "nbformat_minor": 2
}
