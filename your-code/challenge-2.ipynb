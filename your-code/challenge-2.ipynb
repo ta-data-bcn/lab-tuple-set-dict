{
 "cells": [
  {
   "cell_type": "markdown",
   "metadata": {},
   "source": [
    "## Challenge 2: Sets\n",
    "\n",
    "There are a lot to learn about Python Sets and the information presented in the lesson is limited due to its length. To learn Python Sets in depth you are strongly encouraged to review the W3Schools tutorial on [Python Sets Examples and Methods](https://www.w3schools.com/python/python_sets.asp) before you work on this lab. Some difficult questions in this lab have their solutions in the W3Schools tutorial.\n",
    "\n",
    "#### First, import the Python `random` library."
   ]
  },
  {
   "cell_type": "code",
   "execution_count": 2,
   "metadata": {},
   "outputs": [],
   "source": [
    "import random"
   ]
  },
  {
   "cell_type": "markdown",
   "metadata": {},
   "source": [
    "#### In the cell below, create a list named `sample_list_1` with 80 random values. \n",
    "\n",
    "Requirements:\n",
    "\n",
    "* Each value is an integer falling between 0 and 100.\n",
    "* Each value in the list is unique.\n",
    "\n",
    "Print `sample_list_1` to review its values\n",
    "\n",
    "*Hint: use `random.sample` ([reference](https://docs.python.org/3/library/random.html#random.sample)).*"
   ]
  },
  {
   "cell_type": "code",
   "execution_count": 22,
   "metadata": {},
   "outputs": [
    {
     "name": "stdout",
     "output_type": "stream",
     "text": [
      "[45, 52, 63, 24, 60, 91, 20, 4, 8, 39, 14, 97, 18, 29, 75, 66, 25, 74, 5, 85, 49, 49, 21, 57, 62, 29, 82, 42, 0, 81, 87, 17, 37, 68, 21, 2, 89, 64, 6, 53, 62, 84, 19, 88, 83, 46, 51, 22, 46, 20, 44, 100, 18, 28, 35, 91, 39, 95, 15, 95, 50, 75, 20, 28, 65, 80, 76, 60, 16, 65, 84, 28, 3, 78, 85, 89, 74, 29, 77, 25]\n",
      "\n",
      "Or we can also do: \n",
      " [65, 91, 26, 35, 52, 54, 53, 22, 50, 39, 88, 93, 56, 19, 54, 11, 22, 98, 3, 36, 19, 79, 4, 13, 83, 98, 80, 65, 45, 86, 64, 82, 39, 52, 24, 11, 54, 50, 37, 34, 89, 91, 36, 8, 75, 40, 84, 49, 74, 17, 1, 10, 38, 31, 43, 79, 39, 20, 74, 40, 85, 70, 35, 72, 88, 99, 4, 49, 96, 61, 68, 44, 0, 65, 95, 19, 22, 70, 7, 22]\n"
     ]
    }
   ],
   "source": [
    "sample_list_1=[]\n",
    "for i in range(80):\n",
    "    sample_list_1.append(random.randint(0,100))\n",
    "print(sample_list_1)\n",
    "\n",
    "print(\"\\nOr we can also do: \\n\",[random.randint(0,100) for i in range(80)])\n"
   ]
  },
  {
   "cell_type": "markdown",
   "metadata": {},
   "source": [
    "#### Convert `sample_list_1` to a set called `set1`. Print the length of the set. Is its length still 80?"
   ]
  },
  {
   "cell_type": "code",
   "execution_count": 33,
   "metadata": {},
   "outputs": [
    {
     "name": "stdout",
     "output_type": "stream",
     "text": [
      "{0, 2, 3, 4, 5, 6, 8, 14, 15, 16, 17, 18, 19, 20, 21, 22, 24, 25, 28, 29, 35, 37, 39, 42, 44, 45, 46, 49, 50, 51, 52, 53, 57, 60, 62, 63, 64, 65, 66, 68, 74, 75, 76, 77, 78, 80, 81, 82, 83, 84, 85, 87, 88, 89, 91, 95, 97, 100}\n",
      "\n",
      "length is now: 58\n"
     ]
    }
   ],
   "source": [
    "set1=set(sample_list_1)\n",
    "print(set1)\n",
    "print(\"\\nlength is now:\",len(set1))"
   ]
  },
  {
   "cell_type": "markdown",
   "metadata": {},
   "source": [
    "#### Create another list named `sample_list_2` with 80 random values.\n",
    "\n",
    "Requirements:\n",
    "\n",
    "* Each value is an integer falling between 0 and 100.\n",
    "* The values in the list don't have to be unique.\n",
    "\n",
    "*Hint: Use a FOR loop and the `randrange()` function.*"
   ]
  },
  {
   "cell_type": "code",
   "execution_count": 32,
   "metadata": {},
   "outputs": [
    {
     "name": "stdout",
     "output_type": "stream",
     "text": [
      "{2, 4, 6, 8, 9, 10, 12, 13, 14, 17, 19, 21, 24, 25, 26, 27, 28, 29, 32, 33, 36, 41, 45, 49, 50, 53, 58, 59, 60, 61, 65, 66, 67, 68, 71, 72, 75, 77, 79, 80, 83, 84, 87, 90, 93, 94, 97, 98, 99}\n"
     ]
    }
   ],
   "source": [
    "sample_list_2=[random.randrange(0,100) for i in range(80)]\n",
    "print(sample_list_2)"
   ]
  },
  {
   "cell_type": "markdown",
   "metadata": {},
   "source": [
    "#### Convert `sample_list_2` to a set called `set2`. Print the length of the set. Is its length still 80?"
   ]
  },
  {
   "cell_type": "code",
   "execution_count": 34,
   "metadata": {},
   "outputs": [
    {
     "name": "stdout",
     "output_type": "stream",
     "text": [
      "{2, 4, 6, 8, 9, 10, 12, 13, 14, 17, 19, 21, 24, 25, 26, 27, 28, 29, 32, 33, 36, 41, 45, 49, 50, 53, 58, 59, 60, 61, 65, 66, 67, 68, 71, 72, 75, 77, 79, 80, 83, 84, 87, 90, 93, 94, 97, 98, 99}\n",
      "\n",
      "length is now: 49\n"
     ]
    }
   ],
   "source": [
    "set2=set(sample_list_2)\n",
    "print(set2)\n",
    "print(\"\\nlength is now:\",len(set2))"
   ]
  },
  {
   "cell_type": "markdown",
   "metadata": {},
   "source": [
    "#### Identify the elements present in `set1` but not in `set2`. Assign the elements to a new set named `set3`."
   ]
  },
  {
   "cell_type": "code",
   "execution_count": 39,
   "metadata": {},
   "outputs": [
    {
     "name": "stdout",
     "output_type": "stream",
     "text": [
      "{0, 3, 5, 15, 16, 18, 20, 22, 35, 37, 39, 42, 44, 46, 51, 52, 57, 62, 63, 64, 74, 76, 78, 81, 82, 85, 88, 89, 91, 95, 100}\n"
     ]
    }
   ],
   "source": [
    "set3=[]\n",
    "for element in set1:\n",
    "    if element not in set2:\n",
    "        set3.append(element)\n",
    "set3=set(set3)\n",
    "print(set3)"
   ]
  },
  {
   "cell_type": "markdown",
   "metadata": {},
   "source": [
    "#### Identify the elements present in `set2` but not in `set1`. Assign the elements to a new set named `set4`."
   ]
  },
  {
   "cell_type": "code",
   "execution_count": 40,
   "metadata": {},
   "outputs": [
    {
     "name": "stdout",
     "output_type": "stream",
     "text": [
      "{9, 10, 12, 13, 26, 27, 32, 33, 36, 41, 58, 59, 61, 67, 71, 72, 79, 90, 93, 94, 98, 99}\n"
     ]
    }
   ],
   "source": [
    "set4=[]\n",
    "for element in set2:\n",
    "    if element not in set1:\n",
    "        set4.append(element)\n",
    "set4=set(set4)\n",
    "print(set4)\n"
   ]
  },
  {
   "cell_type": "markdown",
   "metadata": {},
   "source": [
    "#### Now Identify the elements shared between `set1` and `set2`. Assign the elements to a new set named `set5`."
   ]
  },
  {
   "cell_type": "code",
   "execution_count": 41,
   "metadata": {},
   "outputs": [
    {
     "name": "stdout",
     "output_type": "stream",
     "text": [
      "{2, 4, 6, 8, 14, 17, 19, 21, 24, 25, 28, 29, 45, 49, 50, 53, 60, 65, 66, 68, 75, 77, 80, 83, 84, 87, 97}\n"
     ]
    }
   ],
   "source": [
    "set5=[]\n",
    "for element in set2:\n",
    "    if element in set1:\n",
    "        set5.append(element)\n",
    "set5=set(set5)\n",
    "print(set5)"
   ]
  },
  {
   "cell_type": "markdown",
   "metadata": {},
   "source": [
    "#### What is the relationship among the following values:\n",
    "\n",
    "* len(set1)\n",
    "* len(set2)\n",
    "* len(set3)\n",
    "* len(set4)\n",
    "* len(set5)\n",
    "\n",
    "Think about the set operations that you used to create the sets and how the lengths of the sets are related to each other given those operations."
   ]
  },
  {
   "cell_type": "code",
   "execution_count": 51,
   "metadata": {},
   "outputs": [
    {
     "name": "stdout",
     "output_type": "stream",
     "text": [
      "True\n",
      "True\n"
     ]
    }
   ],
   "source": [
    "#The relationship is the following\n",
    "\n",
    "print(len(set1)==len(set3)+len(set5))\n",
    "print(len(set2)==len(set4)+len(set5))"
   ]
  },
  {
   "cell_type": "markdown",
   "metadata": {},
   "source": [
    "#### Create an empty set called `set6`."
   ]
  },
  {
   "cell_type": "code",
   "execution_count": 42,
   "metadata": {},
   "outputs": [],
   "source": [
    "set6=set()\n"
   ]
  },
  {
   "cell_type": "markdown",
   "metadata": {},
   "source": [
    "#### Add `set3` and `set5` to `set6` using the Python Set `update` method."
   ]
  },
  {
   "cell_type": "code",
   "execution_count": 46,
   "metadata": {},
   "outputs": [
    {
     "name": "stdout",
     "output_type": "stream",
     "text": [
      "{0, 2, 3, 4, 5, 6, 8, 14, 15, 16, 17, 18, 19, 20, 21, 22, 24, 25, 28, 29, 35, 37, 39, 42, 44, 45, 46, 49, 50, 51, 52, 53, 57, 60, 62, 63, 64, 65, 66, 68, 74, 75, 76, 77, 78, 80, 81, 82, 83, 84, 85, 87, 88, 89, 91, 95, 97, 100}\n"
     ]
    }
   ],
   "source": [
    "set6.update(set3)\n",
    "set6.update(set5)\n",
    "print(set6)"
   ]
  },
  {
   "cell_type": "markdown",
   "metadata": {},
   "source": [
    "#### Check if `set1` and `set6` are equal."
   ]
  },
  {
   "cell_type": "code",
   "execution_count": 52,
   "metadata": {},
   "outputs": [
    {
     "data": {
      "text/plain": [
       "True"
      ]
     },
     "execution_count": 52,
     "metadata": {},
     "output_type": "execute_result"
    }
   ],
   "source": [
    "set1==set6"
   ]
  },
  {
   "cell_type": "markdown",
   "metadata": {},
   "source": [
    "#### Check if `set1` contains `set2` using the Python Set `issubset` method. Then check if `set1` contains `set3`."
   ]
  },
  {
   "cell_type": "code",
   "execution_count": 56,
   "metadata": {},
   "outputs": [
    {
     "name": "stdout",
     "output_type": "stream",
     "text": [
      "set2 in set1: False\n",
      "set3 in set1: True\n"
     ]
    }
   ],
   "source": [
    "print(\"set2 in set1:\",set2.issubset(set1))\n",
    "print(\"set3 in set1:\",set3.issubset(set1))"
   ]
  },
  {
   "cell_type": "markdown",
   "metadata": {},
   "source": [
    "#### Using the Python Set `union` method, aggregate `set3`, `set4`, and `set5`. Then aggregate `set1` and `set2`. \n",
    "\n",
    "#### Check if the aggregated values are equal."
   ]
  },
  {
   "cell_type": "code",
   "execution_count": 57,
   "metadata": {},
   "outputs": [
    {
     "data": {
      "text/plain": [
       "True"
      ]
     },
     "execution_count": 57,
     "metadata": {},
     "output_type": "execute_result"
    }
   ],
   "source": [
    "x=set3.union(set4)\n",
    "y=x.union(set5)\n",
    "z=set1.union(set2)\n",
    "y==z\n"
   ]
  },
  {
   "cell_type": "markdown",
   "metadata": {},
   "source": [
    "#### Using the `pop` method, remove the first element from `set1`."
   ]
  },
  {
   "cell_type": "code",
   "execution_count": 59,
   "metadata": {},
   "outputs": [
    {
     "ename": "TypeError",
     "evalue": "'set' object is not subscriptable",
     "output_type": "error",
     "traceback": [
      "\u001b[0;31m---------------------------------------------------------------------------\u001b[0m",
      "\u001b[0;31mTypeError\u001b[0m                                 Traceback (most recent call last)",
      "\u001b[0;32m<ipython-input-59-dfa1fffc75ff>\u001b[0m in \u001b[0;36m<module>\u001b[0;34m\u001b[0m\n\u001b[1;32m      1\u001b[0m \u001b[0;31m#how do I do that if the pop method removes an arbitrary number? I cannot choose it to be the first element...\u001b[0m\u001b[0;34m\u001b[0m\u001b[0;34m\u001b[0m\u001b[0;34m\u001b[0m\u001b[0m\n\u001b[0;32m----> 2\u001b[0;31m \u001b[0mset1\u001b[0m\u001b[0;34m.\u001b[0m\u001b[0mremove\u001b[0m\u001b[0;34m(\u001b[0m\u001b[0mset1\u001b[0m\u001b[0;34m[\u001b[0m\u001b[0;36m0\u001b[0m\u001b[0;34m]\u001b[0m\u001b[0;34m)\u001b[0m\u001b[0;34m\u001b[0m\u001b[0;34m\u001b[0m\u001b[0m\n\u001b[0m",
      "\u001b[0;31mTypeError\u001b[0m: 'set' object is not subscriptable"
     ]
    }
   ],
   "source": [
    "#how do I do that if the pop method removes an arbitrary number? I cannot choose it to be the first element...\n",
    "set1.remove(set1[0])"
   ]
  },
  {
   "cell_type": "markdown",
   "metadata": {},
   "source": [
    "#### Remove every element in the following list from `set1` if they are present in the set. Print the remaining elements.\n",
    "\n",
    "```\n",
    "list_to_remove = [1, 9, 11, 19, 21, 29, 31, 39, 41, 49, 51, 59, 61, 69, 71, 79, 81, 89, 91, 99]\n",
    "```"
   ]
  },
  {
   "cell_type": "code",
   "execution_count": null,
   "metadata": {},
   "outputs": [],
   "source": [
    "# Your code here\n"
   ]
  }
 ],
 "metadata": {
  "kernelspec": {
   "display_name": "Python 3",
   "language": "python",
   "name": "python3"
  },
  "language_info": {
   "codemirror_mode": {
    "name": "ipython",
    "version": 3
   },
   "file_extension": ".py",
   "mimetype": "text/x-python",
   "name": "python",
   "nbconvert_exporter": "python",
   "pygments_lexer": "ipython3",
   "version": "3.8.3"
  }
 },
 "nbformat": 4,
 "nbformat_minor": 2
}
