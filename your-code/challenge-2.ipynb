{
 "cells": [
  {
   "cell_type": "markdown",
   "metadata": {},
   "source": [
    "## Challenge 2: Sets\n",
    "\n",
    "There are a lot to learn about Python Sets and the information presented in the lesson is limited due to its length. To learn Python Sets in depth you are strongly encouraged to review the W3Schools tutorial on [Python Sets Examples and Methods](https://www.w3schools.com/python/python_sets.asp) before you work on this lab. Some difficult questions in this lab have their solutions in the W3Schools tutorial.\n",
    "\n",
    "#### First, import the Python `random` library."
   ]
  },
  {
   "cell_type": "code",
   "execution_count": 2,
   "metadata": {},
   "outputs": [],
   "source": [
    "import random"
   ]
  },
  {
   "cell_type": "markdown",
   "metadata": {},
   "source": [
    "#### In the cell below, create a list named `sample_list_1` with 80 random values. \n",
    "\n",
    "Requirements:\n",
    "\n",
    "* Each value is an integer falling between 0 and 100.\n",
    "* Each value in the list is unique.\n",
    "\n",
    "Print `sample_list_1` to review its values\n",
    "\n",
    "*Hint: use `random.sample` ([reference](https://docs.python.org/3/library/random.html#random.sample)).*"
   ]
  },
  {
   "cell_type": "code",
   "execution_count": 3,
   "metadata": {},
   "outputs": [
    {
     "name": "stdout",
     "output_type": "stream",
     "text": [
      "[15, 38, 61, 82, 67, 78, 73, 98, 98, 12, 6, 16, 37, 86, 48, 58, 42, 63, 32, 21, 49, 35, 0, 5, 22, 86, 72, 42, 52, 35, 67, 52, 25, 25, 54, 76, 94, 27, 36, 98, 81, 92, 21, 49, 60, 33, 38, 89, 74, 21, 43, 78, 64, 52, 87, 14, 86, 53, 56, 56, 54, 70, 71, 99, 55, 92, 99, 77, 27, 0, 99, 17, 48, 96, 45, 32, 55, 52, 36, 96]\n",
      "\n",
      "Or we can also do: \n",
      " [90, 43, 55, 54, 38, 24, 91, 98, 31, 27, 19, 11, 33, 14, 97, 1, 45, 75, 98, 55, 47, 14, 3, 70, 12, 34, 32, 28, 88, 42, 59, 72, 55, 38, 12, 94, 82, 5, 46, 8, 85, 61, 75, 27, 94, 97, 91, 30, 17, 30, 65, 50, 81, 35, 80, 72, 36, 70, 8, 83, 95, 39, 5, 26, 73, 65, 92, 43, 8, 66, 4, 79, 88, 68, 63, 89, 24, 4, 100, 46]\n"
     ]
    }
   ],
   "source": [
    "sample_list_1=[]\n",
    "for i in range(80):\n",
    "    sample_list_1.append(random.randint(0,100))\n",
    "print(sample_list_1)\n",
    "\n",
    "print(\"\\nOr we can also do: \\n\",[random.randint(0,100) for i in range(80)])\n"
   ]
  },
  {
   "cell_type": "markdown",
   "metadata": {},
   "source": [
    "#### Convert `sample_list_1` to a set called `set1`. Print the length of the set. Is its length still 80?"
   ]
  },
  {
   "cell_type": "code",
   "execution_count": 42,
   "metadata": {},
   "outputs": [
    {
     "name": "stdout",
     "output_type": "stream",
     "text": [
      "{0, 5, 6, 12, 14, 15, 16, 17, 21, 22, 25, 27, 32, 33, 35, 36, 37, 38, 42, 43, 45, 48, 49, 52, 53, 54, 55, 56, 58, 60, 61, 63, 64, 67, 70, 71, 72, 73, 74, 76, 77, 78, 81, 82, 86, 87, 89, 92, 94, 96, 98, 99}\n",
      "\n",
      "length is now: 52\n"
     ]
    }
   ],
   "source": [
    "set1=set(sample_list_1)\n",
    "print(set1)\n",
    "print(\"\\nlength is now:\",len(set1))"
   ]
  },
  {
   "cell_type": "markdown",
   "metadata": {},
   "source": [
    "#### Create another list named `sample_list_2` with 80 random values.\n",
    "\n",
    "Requirements:\n",
    "\n",
    "* Each value is an integer falling between 0 and 100.\n",
    "* The values in the list don't have to be unique.\n",
    "\n",
    "*Hint: Use a FOR loop and the `randrange()` function.*"
   ]
  },
  {
   "cell_type": "code",
   "execution_count": 5,
   "metadata": {},
   "outputs": [
    {
     "name": "stdout",
     "output_type": "stream",
     "text": [
      "[18, 31, 88, 47, 77, 95, 62, 21, 84, 66, 76, 16, 54, 91, 61, 23, 39, 28, 7, 35, 23, 73, 68, 64, 38, 8, 47, 26, 59, 13, 2, 79, 77, 16, 76, 8, 42, 87, 50, 14, 35, 29, 78, 45, 46, 32, 15, 8, 95, 67, 91, 71, 21, 64, 58, 95, 60, 77, 15, 43, 42, 71, 96, 1, 10, 23, 46, 49, 56, 81, 43, 45, 94, 75, 43, 52, 64, 28, 77, 43]\n"
     ]
    }
   ],
   "source": [
    "sample_list_2=[random.randrange(0,100) for i in range(80)]\n",
    "print(sample_list_2)"
   ]
  },
  {
   "cell_type": "markdown",
   "metadata": {},
   "source": [
    "#### Convert `sample_list_2` to a set called `set2`. Print the length of the set. Is its length still 80?"
   ]
  },
  {
   "cell_type": "code",
   "execution_count": 6,
   "metadata": {},
   "outputs": [
    {
     "name": "stdout",
     "output_type": "stream",
     "text": [
      "{1, 2, 7, 8, 10, 13, 14, 15, 16, 18, 21, 23, 26, 28, 29, 31, 32, 35, 38, 39, 42, 43, 45, 46, 47, 49, 50, 52, 54, 56, 58, 59, 60, 61, 62, 64, 66, 67, 68, 71, 73, 75, 76, 77, 78, 79, 81, 84, 87, 88, 91, 94, 95, 96}\n",
      "\n",
      "length is now: 54\n"
     ]
    }
   ],
   "source": [
    "set2=set(sample_list_2)\n",
    "print(set2)\n",
    "print(\"\\nlength is now:\",len(set2))"
   ]
  },
  {
   "cell_type": "markdown",
   "metadata": {},
   "source": [
    "#### Identify the elements present in `set1` but not in `set2`. Assign the elements to a new set named `set3`."
   ]
  },
  {
   "cell_type": "code",
   "execution_count": 7,
   "metadata": {},
   "outputs": [
    {
     "name": "stdout",
     "output_type": "stream",
     "text": [
      "{0, 5, 6, 12, 17, 22, 25, 27, 33, 36, 37, 48, 53, 55, 63, 70, 72, 74, 82, 86, 89, 92, 98, 99}\n"
     ]
    }
   ],
   "source": [
    "set3=[]\n",
    "for element in set1:\n",
    "    if element not in set2:\n",
    "        set3.append(element)\n",
    "set3=set(set3)\n",
    "print(set3)"
   ]
  },
  {
   "cell_type": "markdown",
   "metadata": {},
   "source": [
    "#### Identify the elements present in `set2` but not in `set1`. Assign the elements to a new set named `set4`."
   ]
  },
  {
   "cell_type": "code",
   "execution_count": 8,
   "metadata": {},
   "outputs": [
    {
     "name": "stdout",
     "output_type": "stream",
     "text": [
      "{1, 2, 7, 8, 10, 13, 18, 23, 26, 28, 29, 31, 39, 46, 47, 50, 59, 62, 66, 68, 75, 79, 84, 88, 91, 95}\n"
     ]
    }
   ],
   "source": [
    "set4=[]\n",
    "for element in set2:\n",
    "    if element not in set1:\n",
    "        set4.append(element)\n",
    "set4=set(set4)\n",
    "print(set4)\n"
   ]
  },
  {
   "cell_type": "markdown",
   "metadata": {},
   "source": [
    "#### Now Identify the elements shared between `set1` and `set2`. Assign the elements to a new set named `set5`."
   ]
  },
  {
   "cell_type": "code",
   "execution_count": 9,
   "metadata": {},
   "outputs": [
    {
     "name": "stdout",
     "output_type": "stream",
     "text": [
      "{14, 15, 16, 21, 32, 35, 38, 42, 43, 45, 49, 52, 54, 56, 58, 60, 61, 64, 67, 71, 73, 76, 77, 78, 81, 87, 94, 96}\n"
     ]
    }
   ],
   "source": [
    "set5=[]\n",
    "for element in set2:\n",
    "    if element in set1:\n",
    "        set5.append(element)\n",
    "set5=set(set5)\n",
    "print(set5)"
   ]
  },
  {
   "cell_type": "markdown",
   "metadata": {},
   "source": [
    "#### What is the relationship among the following values:\n",
    "\n",
    "* len(set1)\n",
    "* len(set2)\n",
    "* len(set3)\n",
    "* len(set4)\n",
    "* len(set5)\n",
    "\n",
    "Think about the set operations that you used to create the sets and how the lengths of the sets are related to each other given those operations."
   ]
  },
  {
   "cell_type": "code",
   "execution_count": 10,
   "metadata": {},
   "outputs": [
    {
     "name": "stdout",
     "output_type": "stream",
     "text": [
      "True\n",
      "True\n"
     ]
    }
   ],
   "source": [
    "#The relationship is the following\n",
    "\n",
    "print(len(set1)==len(set3)+len(set5))\n",
    "print(len(set2)==len(set4)+len(set5))"
   ]
  },
  {
   "cell_type": "markdown",
   "metadata": {},
   "source": [
    "#### Create an empty set called `set6`."
   ]
  },
  {
   "cell_type": "code",
   "execution_count": 11,
   "metadata": {},
   "outputs": [],
   "source": [
    "set6=set()\n"
   ]
  },
  {
   "cell_type": "markdown",
   "metadata": {},
   "source": [
    "#### Add `set3` and `set5` to `set6` using the Python Set `update` method."
   ]
  },
  {
   "cell_type": "code",
   "execution_count": 12,
   "metadata": {},
   "outputs": [
    {
     "name": "stdout",
     "output_type": "stream",
     "text": [
      "{0, 5, 6, 12, 14, 15, 16, 17, 21, 22, 25, 27, 32, 33, 35, 36, 37, 38, 42, 43, 45, 48, 49, 52, 53, 54, 55, 56, 58, 60, 61, 63, 64, 67, 70, 71, 72, 73, 74, 76, 77, 78, 81, 82, 86, 87, 89, 92, 94, 96, 98, 99}\n"
     ]
    }
   ],
   "source": [
    "set6.update(set3)\n",
    "set6.update(set5)\n",
    "print(set6)"
   ]
  },
  {
   "cell_type": "markdown",
   "metadata": {},
   "source": [
    "#### Check if `set1` and `set6` are equal."
   ]
  },
  {
   "cell_type": "code",
   "execution_count": 13,
   "metadata": {},
   "outputs": [
    {
     "data": {
      "text/plain": [
       "True"
      ]
     },
     "execution_count": 13,
     "metadata": {},
     "output_type": "execute_result"
    }
   ],
   "source": [
    "set1==set6"
   ]
  },
  {
   "cell_type": "markdown",
   "metadata": {},
   "source": [
    "#### Check if `set1` contains `set2` using the Python Set `issubset` method. Then check if `set1` contains `set3`."
   ]
  },
  {
   "cell_type": "code",
   "execution_count": 14,
   "metadata": {},
   "outputs": [
    {
     "name": "stdout",
     "output_type": "stream",
     "text": [
      "set2 in set1: False\n",
      "set3 in set1: True\n"
     ]
    }
   ],
   "source": [
    "print(\"set2 in set1:\",set2.issubset(set1))\n",
    "print(\"set3 in set1:\",set3.issubset(set1))"
   ]
  },
  {
   "cell_type": "markdown",
   "metadata": {},
   "source": [
    "#### Using the Python Set `union` method, aggregate `set3`, `set4`, and `set5`. Then aggregate `set1` and `set2`. \n",
    "\n",
    "#### Check if the aggregated values are equal."
   ]
  },
  {
   "cell_type": "code",
   "execution_count": 15,
   "metadata": {},
   "outputs": [
    {
     "data": {
      "text/plain": [
       "True"
      ]
     },
     "execution_count": 15,
     "metadata": {},
     "output_type": "execute_result"
    }
   ],
   "source": [
    "x=set3.union(set4)\n",
    "y=x.union(set5)\n",
    "z=set1.union(set2)\n",
    "y==z\n"
   ]
  },
  {
   "cell_type": "markdown",
   "metadata": {},
   "source": [
    "#### Using the `pop` method, remove the first element from `set1`."
   ]
  },
  {
   "cell_type": "code",
   "execution_count": 43,
   "metadata": {},
   "outputs": [
    {
     "data": {
      "text/plain": [
       "0"
      ]
     },
     "execution_count": 43,
     "metadata": {},
     "output_type": "execute_result"
    }
   ],
   "source": [
    "set1.pop()"
   ]
  },
  {
   "cell_type": "markdown",
   "metadata": {},
   "source": [
    "#### Remove every element in the following list from `set1` if they are present in the set. Print the remaining elements.\n",
    "\n",
    "```\n",
    "list_to_remove = [1, 9, 11, 19, 21, 29, 31, 39, 41, 49, 51, 59, 61, 69, 71, 79, 81, 89, 91, 99]\n",
    "```"
   ]
  },
  {
   "cell_type": "code",
   "execution_count": 44,
   "metadata": {},
   "outputs": [
    {
     "name": "stdout",
     "output_type": "stream",
     "text": [
      "{5, 6, 12, 14, 15, 16, 17, 22, 25, 27, 32, 33, 35, 36, 37, 38, 42, 43, 45, 48, 52, 53, 54, 55, 56, 58, 60, 63, 64, 67, 70, 72, 73, 74, 76, 77, 78, 82, 86, 87, 92, 94, 96, 98}\n"
     ]
    }
   ],
   "source": [
    "list_to_remove = [1, 9, 11, 19, 21, 29, 31, 39, 41, 49, 51, 59, 61, 69, 71, 79, 81, 89, 91, 99]\n",
    "for item in list_to_remove:\n",
    "    if item in set1:\n",
    "        set1.remove(item)\n",
    "print(set1)\n",
    "    "
   ]
  }
 ],
 "metadata": {
  "kernelspec": {
   "display_name": "Python 3",
   "language": "python",
   "name": "python3"
  },
  "language_info": {
   "codemirror_mode": {
    "name": "ipython",
    "version": 3
   },
   "file_extension": ".py",
   "mimetype": "text/x-python",
   "name": "python",
   "nbconvert_exporter": "python",
   "pygments_lexer": "ipython3",
   "version": "3.8.3"
  }
 },
 "nbformat": 4,
 "nbformat_minor": 2
}
