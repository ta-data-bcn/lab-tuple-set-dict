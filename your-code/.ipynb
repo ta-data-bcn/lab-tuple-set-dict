{
 "cells": [
  {
   "cell_type": "markdown",
   "metadata": {},
   "source": [
    "## Challenge 2: Sets\n",
    "\n",
    "There are a lot to learn about Python Sets and the information presented in the lesson is limited due to its length. To learn Python Sets in depth you are strongly encouraged to review the W3Schools tutorial on [Python Sets Examples and Methods](https://www.w3schools.com/python/python_sets.asp) before you work on this lab. Some difficult questions in this lab have their solutions in the W3Schools tutorial.\n",
    "\n",
    "#### First, import the Python `random` library."
   ]
  },
  {
   "cell_type": "code",
   "execution_count": 5,
   "metadata": {},
   "outputs": [],
   "source": [
    "import random"
   ]
  },
  {
   "cell_type": "markdown",
   "metadata": {},
   "source": [
    "#### In the cell below, create a list named `sample_list_1` with 80 random values. \n",
    "\n",
    "Requirements:\n",
    "\n",
    "* Each value is an integer falling between 0 and 100.\n",
    "* Each value in the list is unique.\n",
    "\n",
    "Print `sample_list_1` to review its values\n",
    "\n",
    "*Hint: use `random.sample` ([reference](https://docs.python.org/3/library/random.html#random.sample)).*"
   ]
  },
  {
   "cell_type": "code",
   "execution_count": 6,
   "metadata": {},
   "outputs": [
    {
     "name": "stdout",
     "output_type": "stream",
     "text": [
      "[91, 29, 40, 22, 78, 28, 17, 26, 24, 48, 6, 57, 52, 73, 10, 75, 15, 1, 33, 65, 9, 19, 2, 12, 63, 45, 39, 72, 30, 60, 49, 31, 8, 64, 53, 79, 94, 5, 44, 16, 41, 95, 11, 77, 34, 66, 54, 89, 87, 38, 61, 47, 96, 99, 81, 42, 85, 98, 68, 55, 32, 67, 82, 23, 36, 46, 74, 62, 71, 37, 92, 56, 93, 80, 7, 97, 20, 76, 70, 90]\n"
     ]
    }
   ],
   "source": [
    "import random\n",
    "sample_list_1 = random.sample(range(100),80)\n",
    "print(sample_list_1)"
   ]
  },
  {
   "cell_type": "markdown",
   "metadata": {},
   "source": [
    "#### Convert `sample_list_1` to a set called `set1`. Print the length of the set. Is its length still 80?"
   ]
  },
  {
   "cell_type": "code",
   "execution_count": 7,
   "metadata": {},
   "outputs": [
    {
     "name": "stdout",
     "output_type": "stream",
     "text": [
      "80\n"
     ]
    }
   ],
   "source": [
    "set1 = set(sample_list_1)\n",
    "\n",
    "print(len(set1))\n",
    "\n",
    "\n",
    "#Yes, it is still 80 cause the method we chose previously gives us already unique values out of the population we specify."
   ]
  },
  {
   "cell_type": "markdown",
   "metadata": {},
   "source": [
    "#### Create another list named `sample_list_2` with 80 random values.\n",
    "\n",
    "Requirements:\n",
    "\n",
    "* Each value is an integer falling between 0 and 100.\n",
    "* The values in the list don't have to be unique.\n",
    "\n",
    "*Hint: Use a FOR loop.*"
   ]
  },
  {
   "cell_type": "code",
   "execution_count": 9,
   "metadata": {},
   "outputs": [
    {
     "name": "stdout",
     "output_type": "stream",
     "text": [
      "[8, 51, 26, 83, 8, 66, 82, 51, 93, 47, 66, 16, 67, 92, 29, 5, 6, 71, 65, 5, 73, 32, 65, 35, 1, 93, 6, 96, 3, 39, 36, 66, 49, 58, 20, 77, 11, 44, 61, 88, 85, 92, 97, 6, 15, 56, 18, 60, 81, 53, 78, 86, 5, 76, 75, 14, 36, 67, 41, 54, 49, 22, 84, 96, 15, 48, 53, 57, 75, 68, 99, 43, 86, 56, 16, 5, 48, 13, 13, 99]\n"
     ]
    }
   ],
   "source": [
    "sample_list_2 = []\n",
    "\n",
    "for i in range(80):\n",
    "    dom = random.choice(range(100))\n",
    "    sample_list_2.append(dom)\n",
    "\n",
    "print(sample_list_2)"
   ]
  },
  {
   "cell_type": "markdown",
   "metadata": {},
   "source": [
    "#### Convert `sample_list_2` to a set called `set2`. Print the length of the set. Is its length still 80?"
   ]
  },
  {
   "cell_type": "code",
   "execution_count": 22,
   "metadata": {},
   "outputs": [
    {
     "name": "stdout",
     "output_type": "stream",
     "text": [
      "{1, 3, 5, 6, 8, 11, 13, 14, 15, 16, 18, 20, 22, 26, 29, 32, 35, 36, 39, 41, 43, 44, 47, 48, 49, 51, 53, 54, 56, 57, 58, 60, 61, 65, 66, 67, 68, 71, 73, 75, 76, 77, 78, 81, 82, 83, 84, 85, 86, 88, 92, 93, 96, 97, 99}\n",
      "55\n"
     ]
    }
   ],
   "source": [
    "set2 = set(sample_list_2)\n",
    "\n",
    "print(len(set2))\n",
    "\n",
    "\n",
    "#No, the lenght is not 80 anymore because after converting the sample list 2 (containing repeated values) into a set, we are removing the repeated values and getting a smaller set of values than in set1.\n"
   ]
  },
  {
   "cell_type": "markdown",
   "metadata": {},
   "source": [
    "#### Identify the elements present in `set1` but not in `set2`. Assign the elements to a new set named `set3`."
   ]
  },
  {
   "cell_type": "code",
   "execution_count": 67,
   "metadata": {},
   "outputs": [
    {
     "name": "stdout",
     "output_type": "stream",
     "text": [
      "{0, 2, 4, 7, 10, 12, 21, 23, 24, 25, 27, 28, 30, 33, 34, 37, 38, 40, 45, 46, 50, 52, 55, 59, 62, 63, 69, 72, 79, 80, 89, 90, 91, 94, 95}\n"
     ]
    }
   ],
   "source": [
    "set3 = set()\n",
    "\n",
    "for i in set1:\n",
    "    if i not in set2:\n",
    "        set3.add(i)\n",
    "        \n",
    "\n",
    "print(set3)"
   ]
  },
  {
   "cell_type": "markdown",
   "metadata": {},
   "source": [
    "#### Identify the elements present in `set2` but not in `set1`. Assign the elements to a new set named `set4`."
   ]
  },
  {
   "cell_type": "code",
   "execution_count": 66,
   "metadata": {},
   "outputs": [
    {
     "name": "stdout",
     "output_type": "stream",
     "text": [
      "{65, 35, 3, 41, 73, 11, 77, 84, 53, 54}\n"
     ]
    }
   ],
   "source": [
    "set4 = set()\n",
    "\n",
    "for i in set2:\n",
    "    if i not in set1:\n",
    "        set4.add(i)\n",
    "\n",
    "print(set4)\n"
   ]
  },
  {
   "cell_type": "markdown",
   "metadata": {},
   "source": [
    "#### Now Identify the elements shared between `set1` and `set2`. Assign the elements to a new set named `set5`."
   ]
  },
  {
   "cell_type": "code",
   "execution_count": 39,
   "metadata": {},
   "outputs": [
    {
     "name": "stdout",
     "output_type": "stream",
     "text": [
      "{1, 5, 6, 8, 13, 14, 15, 16, 18, 20, 22, 26, 29, 32, 36, 39, 43, 44, 47, 48, 49, 51, 56, 57, 58, 60, 61, 66, 67, 68, 71, 75, 76, 78, 81, 82, 83, 85, 86, 88, 92, 93, 96, 97, 99}\n"
     ]
    },
    {
     "data": {
      "text/plain": [
       "45"
      ]
     },
     "execution_count": 39,
     "metadata": {},
     "output_type": "execute_result"
    }
   ],
   "source": [
    "set5 = set1.intersection(set2)\n",
    "\n",
    "print(set5)\n",
    "\n",
    "\n"
   ]
  },
  {
   "cell_type": "markdown",
   "metadata": {},
   "source": [
    "#### What is the relationship among the following values:\n",
    "\n",
    "* len(set1)\n",
    "* len(set2)\n",
    "* len(set3)\n",
    "* len(set4)\n",
    "* len(set5)\n",
    "\n",
    "Use a math formular to represent that relationship. Test your formular with Python code."
   ]
  },
  {
   "cell_type": "code",
   "execution_count": 64,
   "metadata": {},
   "outputs": [
    {
     "name": "stdout",
     "output_type": "stream",
     "text": [
      "[80, 55, 35, 10, 45]\n",
      "True\n",
      "True\n"
     ]
    }
   ],
   "source": [
    "listx = [len(set1), len(set2), len(set3), len(set4), len(set5)]\n",
    "\n",
    "print(listx)\n",
    "\n",
    "#Uniques_set1 = intersection with set2 + not intersection with set2, uniques_set2 = intersection with set1 + not intersection with set2\n",
    "\n",
    "\n",
    "validation_set1 = listx[0] == listx[4] + listx[2]\n",
    "print(validation_set1)\n",
    "\n",
    "validation_set2 = listx[1] == listx[4] + listx[3]\n",
    "print(validation_set2)\n",
    "\n"
   ]
  },
  {
   "cell_type": "markdown",
   "metadata": {},
   "source": [
    "#### Create an empty set called `set6`."
   ]
  },
  {
   "cell_type": "code",
   "execution_count": 68,
   "metadata": {},
   "outputs": [],
   "source": [
    "set6 = set()\n"
   ]
  },
  {
   "cell_type": "markdown",
   "metadata": {},
   "source": [
    "#### Add `set3` and `set5` to `set6` using the Python Set `update` method."
   ]
  },
  {
   "cell_type": "code",
   "execution_count": 74,
   "metadata": {},
   "outputs": [
    {
     "name": "stdout",
     "output_type": "stream",
     "text": [
      "{0, 1, 2, 4, 5, 6, 7, 8, 10, 12, 13, 14, 15, 16, 18, 20, 21, 22, 23, 24, 25, 26, 27, 28, 29, 30, 32, 33, 34, 36, 37, 38, 39, 40, 43, 44, 45, 46, 47, 48, 49, 50, 51, 52, 55, 56, 57, 58, 59, 60, 61, 62, 63, 66, 67, 68, 69, 71, 72, 75, 76, 78, 79, 80, 81, 82, 83, 85, 86, 88, 89, 90, 91, 92, 93, 94, 95, 96, 97, 99}\n",
      "80\n"
     ]
    }
   ],
   "source": [
    "set6.update(set3, set5)\n",
    "\n",
    "print(set6)\n",
    "\n",
    "print(len(set6))"
   ]
  },
  {
   "cell_type": "markdown",
   "metadata": {},
   "source": [
    "#### Check if `set1` and `set6` are equal."
   ]
  },
  {
   "cell_type": "code",
   "execution_count": 75,
   "metadata": {},
   "outputs": [
    {
     "name": "stdout",
     "output_type": "stream",
     "text": [
      "True\n"
     ]
    }
   ],
   "source": [
    "print((len(set6)) == len(set1))\n"
   ]
  },
  {
   "cell_type": "markdown",
   "metadata": {},
   "source": [
    "#### Check if `set1` contains `set2` using the Python Set `issubset` method. Then check if `set1` contains `set3`.*"
   ]
  },
  {
   "cell_type": "code",
   "execution_count": 82,
   "metadata": {},
   "outputs": [
    {
     "name": "stdout",
     "output_type": "stream",
     "text": [
      "Is set2 a subset of set1? --> False\n",
      "Is set3 a subset of set1? --> True\n"
     ]
    }
   ],
   "source": [
    "print(\"Is set2 a subset of set1? -->\", set2.issubset(set1))\n",
    "\n",
    "#Expected. These are 2 randomly generated ranges independent from one another\n",
    "\n",
    "print(\"Is set3 a subset of set1? -->\", set3.issubset(set1))\n",
    "\n",
    "#Expected. Set 3 is the part of set 1 that is not common with set 2. Si, it is a subset of set 1"
   ]
  },
  {
   "cell_type": "markdown",
   "metadata": {},
   "source": [
    "#### Using the Python Set `union` method, aggregate `set3`, `set4`, and `set5`. Then aggregate `set1` and `set2`. \n",
    "\n",
    "#### Check if the aggregated values are equal."
   ]
  },
  {
   "cell_type": "code",
   "execution_count": 96,
   "metadata": {},
   "outputs": [
    {
     "name": "stdout",
     "output_type": "stream",
     "text": [
      "{0, 1, 2, 3, 4, 5, 6, 7, 8, 10, 11, 12, 13, 14, 15, 16, 18, 20, 21, 22, 23, 24, 25, 26, 27, 28, 29, 30, 32, 33, 34, 35, 36, 37, 38, 39, 40, 41, 43, 44, 45, 46, 47, 48, 49, 50, 51, 52, 53, 54, 55, 56, 57, 58, 59, 60, 61, 62, 63, 65, 66, 67, 68, 69, 71, 72, 73, 75, 76, 77, 78, 79, 80, 81, 82, 83, 84, 85, 86, 88, 89, 90, 91, 92, 93, 94, 95, 96, 97, 99}\n",
      "90\n",
      "{0, 1, 2, 3, 4, 5, 6, 7, 8, 10, 11, 12, 13, 14, 15, 16, 18, 20, 21, 22, 23, 24, 25, 26, 27, 28, 29, 30, 32, 33, 34, 35, 36, 37, 38, 39, 40, 41, 43, 44, 45, 46, 47, 48, 49, 50, 51, 52, 53, 54, 55, 56, 57, 58, 59, 60, 61, 62, 63, 65, 66, 67, 68, 69, 71, 72, 73, 75, 76, 77, 78, 79, 80, 81, 82, 83, 84, 85, 86, 88, 89, 90, 91, 92, 93, 94, 95, 96, 97, 99}\n",
      "90\n",
      "Are the aggregated sets of the same lenght? -->  True\n"
     ]
    }
   ],
   "source": [
    "set_union = set3.union(set4, set5)\n",
    "\n",
    "print(set_union)\n",
    "print(len(set_union))\n",
    "\n",
    "\n",
    "set_union2 = set_union.union(set1, set2)\n",
    "print(set_union2)\n",
    "print(len(set_union2))\n",
    "\n",
    "print(\"Are the aggregated sets of the same lenght? --> \", set_union == set_union2)\n",
    "\n",
    "#Expected. Union of set 1 and 2 to the set_union does not add anything else, cause set_union (set3, set4 and set5 already take all possible values, the intersection between set 1 and 2, and the values that are not common between them)"
   ]
  },
  {
   "cell_type": "markdown",
   "metadata": {},
   "source": [
    "#### Using the `pop` method, remove the first element from `set1`."
   ]
  },
  {
   "cell_type": "code",
   "execution_count": 115,
   "metadata": {},
   "outputs": [
    {
     "name": "stdout",
     "output_type": "stream",
     "text": [
      "{0, 1, 2, 4, 5, 6, 7, 8, 10, 12, 13, 14, 15, 16, 18, 20, 21, 22, 23, 24, 25, 26, 27, 28, 29, 30, 32, 33, 34, 36, 37, 38, 39, 40, 43, 44, 45, 46, 47, 48, 49, 50, 51, 52, 55, 56, 57, 58, 59, 60, 61, 62, 63, 66, 67, 68, 69, 71, 72, 75, 76, 78, 79, 80, 81, 82, 83, 85, 86, 88, 89, 90, 91, 92, 93, 94, 95, 96, 97, 99}\n",
      "{1, 2, 4, 5, 6, 7, 8, 10, 12, 13, 14, 15, 16, 18, 20, 21, 22, 23, 24, 25, 26, 27, 28, 29, 30, 32, 33, 34, 36, 37, 38, 39, 40, 43, 44, 45, 46, 47, 48, 49, 50, 51, 52, 55, 56, 57, 58, 59, 60, 61, 62, 63, 66, 67, 68, 69, 71, 72, 75, 76, 78, 79, 80, 81, 82, 83, 85, 86, 88, 89, 90, 91, 92, 93, 94, 95, 96, 97, 99}\n",
      "80\n",
      "79\n"
     ]
    }
   ],
   "source": [
    "print(set1)\n",
    "\n",
    "dem = list(set1)\n",
    "\n",
    "dem.reverse()\n",
    "\n",
    "dem.pop()\n",
    "\n",
    "set11 = set(dem)\n",
    "\n",
    "print(set11)\n",
    "\n",
    "print(len(set1))\n",
    "print(len(set11))\n",
    "\n"
   ]
  },
  {
   "cell_type": "markdown",
   "metadata": {},
   "source": [
    "#### Remove every element in the following list from `set1` if they are present in the set. Print the remaining elements.\n",
    "\n",
    "```\n",
    "list_to_remove = [1, 9, 11, 19, 21, 29, 31, 39, 41, 49, 51, 59, 61, 69, 71, 79, 81, 89, 91, 99]\n",
    "```"
   ]
  },
  {
   "cell_type": "code",
   "execution_count": 12,
   "metadata": {},
   "outputs": [
    {
     "name": "stdout",
     "output_type": "stream",
     "text": [
      "{2, 5, 6, 7, 8, 10, 12, 15, 16, 17, 20, 22, 23, 24, 26, 28, 30, 32, 33, 34, 36, 37, 38, 40, 42, 44, 45, 46, 47, 48, 52, 53, 54, 55, 56, 57, 60, 62, 63, 64, 65, 66, 67, 68, 70, 72, 73, 74, 75, 76, 77, 78, 80, 82, 85, 87, 90, 92, 93, 94, 95, 96, 97, 98}\n"
     ]
    }
   ],
   "source": [
    "list_to_remove = [1, 9, 11, 19, 21, 29, 31, 39, 41, 49, 51, 59, 61, 69, 71, 79, 81, 89, 91, 99]\n",
    "\n",
    "list_set1 = list(set1)\n",
    "\n",
    "for i in list_to_remove:\n",
    "    if i in set1:\n",
    "        list_set1.remove(i)\n",
    "\n",
    "print(set(list_set1))\n",
    "\n",
    "\n",
    "        "
   ]
  }
 ],
 "metadata": {
  "kernelspec": {
   "display_name": "Python 3",
   "language": "python",
   "name": "python3"
  },
  "language_info": {
   "codemirror_mode": {
    "name": "ipython",
    "version": 3
   },
   "file_extension": ".py",
   "mimetype": "text/x-python",
   "name": "python",
   "nbconvert_exporter": "python",
   "pygments_lexer": "ipython3",
   "version": "3.7.3"
  }
 },
 "nbformat": 4,
 "nbformat_minor": 2
}
